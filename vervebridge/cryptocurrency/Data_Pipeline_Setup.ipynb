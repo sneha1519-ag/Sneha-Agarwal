{
 "cells": [
  {
   "cell_type": "code",
   "id": "initial_id",
   "metadata": {
    "collapsed": true,
    "jupyter": {
     "is_executing": true
    },
    "ExecuteTime": {
     "start_time": "2024-09-01T17:42:36.605664Z"
    }
   },
   "source": [
    "from confluent_kafka import Producer\n",
    "import requests\n",
    "import json\n",
    "import time\n",
    "import pandas as pd\n",
    "\n",
    "url = \"https://api.coingecko.com/api/v3/coins/markets\"\n",
    "params = {\n",
    "    'vs_currency': 'usd',\n",
    "    'order': 'market_cap_desc',\n",
    "    'per_page': 100,\n",
    "    'page': 1,\n",
    "    'sparkline': False\n",
    "}\n",
    "# Configure the Kafka Producer\n",
    "conf = {'bootstrap.servers': 'localhost:9092'}\n",
    "producer = Producer(conf)\n",
    "\n",
    "# Initialize an empty DataFrame\n",
    "all_data = pd.DataFrame()\n",
    "\n",
    "def delivery_report(err, msg):\n",
    "    if err is not None:\n",
    "        print(f\"Message delivery failed: {err}\")\n",
    "    else:\n",
    "        print(f\"Message delivered to {msg.topic()} [{msg.partition()}]\")\n",
    "\n",
    "while True:\n",
    "    response = requests.get(url, params=params)\n",
    "    data = response.json()\n",
    "    \n",
    "    # Convert to DataFrame\n",
    "    df = pd.DataFrame(data)\n",
    "    \n",
    "    # Append new data to the existing data\n",
    "    all_data = pd.concat([all_data, df], ignore_index=True)\n",
    "    \n",
    "    # Save the data to a CSV file\n",
    "    all_data.to_csv('kafka_crypto_data.csv', index=False)\n",
    "    \n",
    "    # Send the data to Kafka\n",
    "    producer.produce('crypto-topic', json.dumps(data).encode('utf-8'), callback=delivery_report)\n",
    "    producer.poll(1)  # Wait up to 1 second for events\n",
    "    \n",
    "    time.sleep(60)\n"
   ],
   "outputs": [],
   "execution_count": null
  }
 ],
 "metadata": {
  "kernelspec": {
   "display_name": "Python 3",
   "language": "python",
   "name": "python3"
  },
  "language_info": {
   "codemirror_mode": {
    "name": "ipython",
    "version": 2
   },
   "file_extension": ".py",
   "mimetype": "text/x-python",
   "name": "python",
   "nbconvert_exporter": "python",
   "pygments_lexer": "ipython2",
   "version": "2.7.6"
  }
 },
 "nbformat": 4,
 "nbformat_minor": 5
}
