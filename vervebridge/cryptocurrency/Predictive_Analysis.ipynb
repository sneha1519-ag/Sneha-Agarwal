{
 "cells": [
  {
   "cell_type": "code",
   "id": "initial_id",
   "metadata": {
    "collapsed": true,
    "ExecuteTime": {
     "end_time": "2024-09-01T18:28:08.498062Z",
     "start_time": "2024-09-01T18:28:07.889265Z"
    }
   },
   "source": [
    "import numpy as np\n",
    "import pandas as pd\n",
    "from keras.models import Sequential\n",
    "from keras.layers import LSTM, Dense, Input\n",
    "from sklearn.preprocessing import MinMaxScaler\n",
    "\n",
    "# Load and preprocess data\n",
    "df = pd.read_csv('kafka_crypto_data.csv', index_col='atl_date', parse_dates=True)\n",
    "\n",
    "# Ensure 'current_price' column exists\n",
    "data_column = 'current_price'\n",
    "if data_column not in df.columns:\n",
    "    raise ValueError(f\"Column '{data_column}' not found in the DataFrame\")\n",
    "\n",
    "# Extract data\n",
    "data = df[data_column].values\n",
    "\n",
    "# Print initial data info\n",
    "print(\"Initial Data Type:\", type(data))\n",
    "print(\"Data Sample:\", data[:5])  # Print first few values for inspection\n",
    "\n",
    "# Convert to numpy array and ensure it’s float32\n",
    "data = np.array(data, dtype=np.float32)\n",
    "print(\"Converted Data Type:\", data.dtype)\n",
    "print(\"Data Shape:\", data.shape)\n",
    "\n",
    "# Reshape data to 2D\n",
    "data = data.reshape(-1, 1)\n",
    "\n",
    "# Normalize data\n",
    "scaler = MinMaxScaler(feature_range=(0, 1))\n",
    "scaled_data = scaler.fit_transform(data)\n",
    "\n",
    "# Check normalized data\n",
    "print(\"Scaled Data Shape:\", scaled_data.shape)\n",
    "print(\"Scaled Data Sample:\", scaled_data[:5])  # Print first few values\n",
    "\n",
    "# Prepare training data\n",
    "X_train, y_train = [], []\n",
    "for i in range(60, len(scaled_data)):\n",
    "    X_train.append(scaled_data[i-60:i, 0])\n",
    "    y_train.append(scaled_data[i, 0])\n",
    "\n",
    "# Convert to numpy arrays\n",
    "X_train = np.array(X_train, dtype=np.float32)\n",
    "y_train = np.array(y_train, dtype=np.float32)\n",
    "\n",
    "# Print shapes and types\n",
    "print(\"X_train Type:\", X_train.dtype)\n",
    "print(\"y_train Type:\", y_train.dtype)\n",
    "print(\"X_train Shape:\", X_train.shape)\n",
    "print(\"y_train Shape:\", y_train.shape)\n",
    "\n",
    "# Reshape X_train for LSTM [samples, time steps, features]\n",
    "X_train = np.reshape(X_train, (X_train.shape[0], X_train.shape[1], 1))\n",
    "\n",
    "# Build LSTM model\n",
    "model = Sequential()\n",
    "model.add(Input(shape=(X_train.shape[1], 1)))  # Define the input shape\n",
    "model.add(LSTM(units=50, return_sequences=True))\n",
    "model.add(LSTM(units=50))\n",
    "model.add(Dense(1))\n",
    "\n",
    "model.compile(optimizer='adam', loss='mean_squared_error')\n",
    "model.fit(X_train, y_train, epochs=1, batch_size=1)\n",
    "\n",
    "# Make predictions\n",
    "predictions = model.predict(X_train)\n",
    "\n",
    "# Check predictions type\n",
    "print(\"Predictions Type:\", type(predictions))\n",
    "print(\"Predictions Shape:\", predictions.shape)\n",
    "\n",
    "# Inverse transform predictions\n",
    "predictions = scaler.inverse_transform(predictions)\n",
    "\n",
    "# Save predictions to a CSV file\n",
    "predictions_df = pd.DataFrame(predictions, columns=['Predicted_Price'])\n",
    "predictions_df.to_csv('lstm_predictions.csv', index=False)\n"
   ],
   "outputs": [
    {
     "name": "stdout",
     "output_type": "stream",
     "text": [
      "Initial Data Type: <class 'numpy.ndarray'>\n",
      "Data Sample: [5.78660e+04 2.45939e+03 9.99286e-01 5.16080e+02 1.32130e+02]\n",
      "Converted Data Type: float32\n",
      "Data Shape: (4600,)\n",
      "Scaled Data Shape: (4600, 1)\n",
      "Scaled Data Sample: [[9.9383420e-01]\n",
      " [4.2239413e-02]\n",
      " [1.7162474e-05]\n",
      " [8.8635469e-03]\n",
      " [2.2693002e-03]]\n",
      "X_train Type: float32\n",
      "y_train Type: float32\n",
      "X_train Shape: (4540, 60)\n",
      "y_train Shape: (4540,)\n"
     ]
    },
    {
     "ename": "ValueError",
     "evalue": "object __array__ method not producing an array",
     "output_type": "error",
     "traceback": [
      "\u001B[1;31m---------------------------------------------------------------------------\u001B[0m",
      "\u001B[1;31mValueError\u001B[0m                                Traceback (most recent call last)",
      "Cell \u001B[1;32mIn[19], line 60\u001B[0m\n\u001B[0;32m     58\u001B[0m model \u001B[38;5;241m=\u001B[39m Sequential()\n\u001B[0;32m     59\u001B[0m model\u001B[38;5;241m.\u001B[39madd(Input(shape\u001B[38;5;241m=\u001B[39m(X_train\u001B[38;5;241m.\u001B[39mshape[\u001B[38;5;241m1\u001B[39m], \u001B[38;5;241m1\u001B[39m)))  \u001B[38;5;66;03m# Define the input shape\u001B[39;00m\n\u001B[1;32m---> 60\u001B[0m \u001B[43mmodel\u001B[49m\u001B[38;5;241;43m.\u001B[39;49m\u001B[43madd\u001B[49m\u001B[43m(\u001B[49m\u001B[43mLSTM\u001B[49m\u001B[43m(\u001B[49m\u001B[43munits\u001B[49m\u001B[38;5;241;43m=\u001B[39;49m\u001B[38;5;241;43m50\u001B[39;49m\u001B[43m,\u001B[49m\u001B[43m \u001B[49m\u001B[43mreturn_sequences\u001B[49m\u001B[38;5;241;43m=\u001B[39;49m\u001B[38;5;28;43;01mTrue\u001B[39;49;00m\u001B[43m)\u001B[49m\u001B[43m)\u001B[49m\n\u001B[0;32m     61\u001B[0m model\u001B[38;5;241m.\u001B[39madd(LSTM(units\u001B[38;5;241m=\u001B[39m\u001B[38;5;241m50\u001B[39m))\n\u001B[0;32m     62\u001B[0m model\u001B[38;5;241m.\u001B[39madd(Dense(\u001B[38;5;241m1\u001B[39m))\n",
      "File \u001B[1;32mD:\\VerveBridgeProject\\.venv\\Lib\\site-packages\\keras\\src\\models\\sequential.py:121\u001B[0m, in \u001B[0;36mSequential.add\u001B[1;34m(self, layer, rebuild)\u001B[0m\n\u001B[0;32m    119\u001B[0m \u001B[38;5;28mself\u001B[39m\u001B[38;5;241m.\u001B[39m_layers\u001B[38;5;241m.\u001B[39mappend(layer)\n\u001B[0;32m    120\u001B[0m \u001B[38;5;28;01mif\u001B[39;00m rebuild:\n\u001B[1;32m--> 121\u001B[0m     \u001B[38;5;28;43mself\u001B[39;49m\u001B[38;5;241;43m.\u001B[39;49m\u001B[43m_maybe_rebuild\u001B[49m\u001B[43m(\u001B[49m\u001B[43m)\u001B[49m\n\u001B[0;32m    122\u001B[0m \u001B[38;5;28;01melse\u001B[39;00m:\n\u001B[0;32m    123\u001B[0m     \u001B[38;5;28mself\u001B[39m\u001B[38;5;241m.\u001B[39mbuilt \u001B[38;5;241m=\u001B[39m \u001B[38;5;28;01mFalse\u001B[39;00m\n",
      "File \u001B[1;32mD:\\VerveBridgeProject\\.venv\\Lib\\site-packages\\keras\\src\\models\\sequential.py:140\u001B[0m, in \u001B[0;36mSequential._maybe_rebuild\u001B[1;34m(self)\u001B[0m\n\u001B[0;32m    138\u001B[0m \u001B[38;5;28;01mif\u001B[39;00m \u001B[38;5;28misinstance\u001B[39m(\u001B[38;5;28mself\u001B[39m\u001B[38;5;241m.\u001B[39m_layers[\u001B[38;5;241m0\u001B[39m], InputLayer) \u001B[38;5;129;01mand\u001B[39;00m \u001B[38;5;28mlen\u001B[39m(\u001B[38;5;28mself\u001B[39m\u001B[38;5;241m.\u001B[39m_layers) \u001B[38;5;241m>\u001B[39m \u001B[38;5;241m1\u001B[39m:\n\u001B[0;32m    139\u001B[0m     input_shape \u001B[38;5;241m=\u001B[39m \u001B[38;5;28mself\u001B[39m\u001B[38;5;241m.\u001B[39m_layers[\u001B[38;5;241m0\u001B[39m]\u001B[38;5;241m.\u001B[39mbatch_shape\n\u001B[1;32m--> 140\u001B[0m     \u001B[38;5;28;43mself\u001B[39;49m\u001B[38;5;241;43m.\u001B[39;49m\u001B[43mbuild\u001B[49m\u001B[43m(\u001B[49m\u001B[43minput_shape\u001B[49m\u001B[43m)\u001B[49m\n\u001B[0;32m    141\u001B[0m \u001B[38;5;28;01melif\u001B[39;00m \u001B[38;5;28mhasattr\u001B[39m(\u001B[38;5;28mself\u001B[39m\u001B[38;5;241m.\u001B[39m_layers[\u001B[38;5;241m0\u001B[39m], \u001B[38;5;124m\"\u001B[39m\u001B[38;5;124minput_shape\u001B[39m\u001B[38;5;124m\"\u001B[39m) \u001B[38;5;129;01mand\u001B[39;00m \u001B[38;5;28mlen\u001B[39m(\u001B[38;5;28mself\u001B[39m\u001B[38;5;241m.\u001B[39m_layers) \u001B[38;5;241m>\u001B[39m \u001B[38;5;241m1\u001B[39m:\n\u001B[0;32m    142\u001B[0m     \u001B[38;5;66;03m# We can build the Sequential model if the first layer has the\u001B[39;00m\n\u001B[0;32m    143\u001B[0m     \u001B[38;5;66;03m# `input_shape` property. This is most commonly found in Functional\u001B[39;00m\n\u001B[0;32m    144\u001B[0m     \u001B[38;5;66;03m# model.\u001B[39;00m\n\u001B[0;32m    145\u001B[0m     input_shape \u001B[38;5;241m=\u001B[39m \u001B[38;5;28mself\u001B[39m\u001B[38;5;241m.\u001B[39m_layers[\u001B[38;5;241m0\u001B[39m]\u001B[38;5;241m.\u001B[39minput_shape\n",
      "File \u001B[1;32mD:\\VerveBridgeProject\\.venv\\Lib\\site-packages\\keras\\src\\layers\\layer.py:226\u001B[0m, in \u001B[0;36mLayer.__new__.<locals>.build_wrapper\u001B[1;34m(*args, **kwargs)\u001B[0m\n\u001B[0;32m    224\u001B[0m \u001B[38;5;28;01mwith\u001B[39;00m obj\u001B[38;5;241m.\u001B[39m_open_name_scope():\n\u001B[0;32m    225\u001B[0m     obj\u001B[38;5;241m.\u001B[39m_path \u001B[38;5;241m=\u001B[39m current_path()\n\u001B[1;32m--> 226\u001B[0m     \u001B[43moriginal_build_method\u001B[49m\u001B[43m(\u001B[49m\u001B[38;5;241;43m*\u001B[39;49m\u001B[43margs\u001B[49m\u001B[43m,\u001B[49m\u001B[43m \u001B[49m\u001B[38;5;241;43m*\u001B[39;49m\u001B[38;5;241;43m*\u001B[39;49m\u001B[43mkwargs\u001B[49m\u001B[43m)\u001B[49m\n\u001B[0;32m    227\u001B[0m \u001B[38;5;66;03m# Record build config.\u001B[39;00m\n\u001B[0;32m    228\u001B[0m signature \u001B[38;5;241m=\u001B[39m inspect\u001B[38;5;241m.\u001B[39msignature(original_build_method)\n",
      "File \u001B[1;32mD:\\VerveBridgeProject\\.venv\\Lib\\site-packages\\keras\\src\\models\\sequential.py:186\u001B[0m, in \u001B[0;36mSequential.build\u001B[1;34m(self, input_shape)\u001B[0m\n\u001B[0;32m    184\u001B[0m \u001B[38;5;28;01mfor\u001B[39;00m layer \u001B[38;5;129;01min\u001B[39;00m \u001B[38;5;28mself\u001B[39m\u001B[38;5;241m.\u001B[39m_layers[\u001B[38;5;241m1\u001B[39m:]:\n\u001B[0;32m    185\u001B[0m     \u001B[38;5;28;01mtry\u001B[39;00m:\n\u001B[1;32m--> 186\u001B[0m         x \u001B[38;5;241m=\u001B[39m \u001B[43mlayer\u001B[49m\u001B[43m(\u001B[49m\u001B[43mx\u001B[49m\u001B[43m)\u001B[49m\n\u001B[0;32m    187\u001B[0m     \u001B[38;5;28;01mexcept\u001B[39;00m \u001B[38;5;167;01mNotImplementedError\u001B[39;00m:\n\u001B[0;32m    188\u001B[0m         \u001B[38;5;66;03m# Can happen if shape inference is not implemented.\u001B[39;00m\n\u001B[0;32m    189\u001B[0m         \u001B[38;5;66;03m# TODO: consider reverting inbound nodes on layers processed.\u001B[39;00m\n\u001B[0;32m    190\u001B[0m         \u001B[38;5;28;01mreturn\u001B[39;00m\n",
      "File \u001B[1;32mD:\\VerveBridgeProject\\.venv\\Lib\\site-packages\\keras\\src\\utils\\traceback_utils.py:122\u001B[0m, in \u001B[0;36mfilter_traceback.<locals>.error_handler\u001B[1;34m(*args, **kwargs)\u001B[0m\n\u001B[0;32m    119\u001B[0m     filtered_tb \u001B[38;5;241m=\u001B[39m _process_traceback_frames(e\u001B[38;5;241m.\u001B[39m__traceback__)\n\u001B[0;32m    120\u001B[0m     \u001B[38;5;66;03m# To get the full stack trace, call:\u001B[39;00m\n\u001B[0;32m    121\u001B[0m     \u001B[38;5;66;03m# `keras.config.disable_traceback_filtering()`\u001B[39;00m\n\u001B[1;32m--> 122\u001B[0m     \u001B[38;5;28;01mraise\u001B[39;00m e\u001B[38;5;241m.\u001B[39mwith_traceback(filtered_tb) \u001B[38;5;28;01mfrom\u001B[39;00m \u001B[38;5;28;01mNone\u001B[39;00m\n\u001B[0;32m    123\u001B[0m \u001B[38;5;28;01mfinally\u001B[39;00m:\n\u001B[0;32m    124\u001B[0m     \u001B[38;5;28;01mdel\u001B[39;00m filtered_tb\n",
      "File \u001B[1;32mD:\\VerveBridgeProject\\.venv\\Lib\\site-packages\\keras\\src\\backend\\tensorflow\\numpy.py:2344\u001B[0m, in \u001B[0;36mtranspose\u001B[1;34m(x, axes)\u001B[0m\n\u001B[0;32m   2342\u001B[0m     output\u001B[38;5;241m.\u001B[39mset_shape(compute_transpose_output_shape(x\u001B[38;5;241m.\u001B[39mshape, axes))\n\u001B[0;32m   2343\u001B[0m     \u001B[38;5;28;01mreturn\u001B[39;00m output\n\u001B[1;32m-> 2344\u001B[0m \u001B[38;5;28;01mreturn\u001B[39;00m \u001B[43mtf\u001B[49m\u001B[38;5;241;43m.\u001B[39;49m\u001B[43mtranspose\u001B[49m\u001B[43m(\u001B[49m\u001B[43mx\u001B[49m\u001B[43m,\u001B[49m\u001B[43m \u001B[49m\u001B[43mperm\u001B[49m\u001B[38;5;241;43m=\u001B[39;49m\u001B[43maxes\u001B[49m\u001B[43m)\u001B[49m\n",
      "\u001B[1;31mValueError\u001B[0m: object __array__ method not producing an array"
     ]
    }
   ],
   "execution_count": 19
  }
 ],
 "metadata": {
  "kernelspec": {
   "display_name": "Python 3",
   "language": "python",
   "name": "python3"
  },
  "language_info": {
   "codemirror_mode": {
    "name": "ipython",
    "version": 2
   },
   "file_extension": ".py",
   "mimetype": "text/x-python",
   "name": "python",
   "nbconvert_exporter": "python",
   "pygments_lexer": "ipython2",
   "version": "2.7.6"
  }
 },
 "nbformat": 4,
 "nbformat_minor": 5
}
