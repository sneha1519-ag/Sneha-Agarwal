{
 "cells": [
  {
   "cell_type": "code",
   "id": "initial_id",
   "metadata": {
    "collapsed": true,
    "ExecuteTime": {
     "end_time": "2024-09-01T17:53:15.986993Z",
     "start_time": "2024-09-01T17:53:15.306406Z"
    }
   },
   "source": [
    "import tweepy\n",
    "from textblob import TextBlob\n",
    "import pandas as pd\n",
    "\n",
    "# Twitter API credentials\n",
    "consumer_key = 'your_consumer_key'\n",
    "consumer_secret = 'your_consumer_secret'\n",
    "access_token = 'your_access_token'\n",
    "access_token_secret = 'your_access_token_secret'\n",
    "\n",
    "auth = tweepy.OAuth1UserHandler(consumer_key, consumer_secret, access_token, access_token_secret)\n",
    "api = tweepy.API(auth)\n",
    "\n",
    "# Initialize an empty DataFrame\n",
    "all_tweets = pd.DataFrame(columns=[\"Tweet\", \"Sentiment\"])\n",
    "\n",
    "# Fetch recent tweets about Bitcoin using search_tweets\n",
    "tweets = api.search_tweets(q=\"Bitcoin\", lang=\"en\", count=100)\n",
    "\n",
    "for tweet in tweets:\n",
    "    analysis = TextBlob(tweet.text)\n",
    "    sentiment = analysis.sentiment.polarity\n",
    "    all_tweets = all_tweets.append({\"Tweet\": tweet.text, \"Sentiment\": sentiment}, ignore_index=True)\n",
    "\n",
    "# Save the tweets and their sentiments to a CSV file\n",
    "all_tweets.to_csv('tweet_sentiment.csv', index=False)\n"
   ],
   "outputs": [
    {
     "name": "stderr",
     "output_type": "stream",
     "text": [
      "D:\\VerveBridgeProject\\.venv\\Lib\\site-packages\\tweepy\\api.py:301: SyntaxWarning: invalid escape sequence '\\['\n",
      "  \"\"\"home_timeline(*, count, since_id, max_id, trim_user, \\\n",
      "D:\\VerveBridgeProject\\.venv\\Lib\\site-packages\\tweepy\\api.py:341: SyntaxWarning: invalid escape sequence '\\['\n",
      "  \"\"\"mentions_timeline(*, count, since_id, max_id, trim_user, \\\n",
      "D:\\VerveBridgeProject\\.venv\\Lib\\site-packages\\tweepy\\api.py:376: SyntaxWarning: invalid escape sequence '\\['\n",
      "  \"\"\"user_timeline(*, user_id, screen_name, since_id, count, max_id, \\\n",
      "D:\\VerveBridgeProject\\.venv\\Lib\\site-packages\\tweepy\\api.py:426: SyntaxWarning: invalid escape sequence '\\['\n",
      "  \"\"\"get_favorites(*, user_id, screen_name, count, since_id, max_id, \\\n",
      "D:\\VerveBridgeProject\\.venv\\Lib\\site-packages\\tweepy\\api.py:467: SyntaxWarning: invalid escape sequence '\\['\n",
      "  \"\"\"lookup_statuses(id, *, include_entities, trim_user, map, \\\n",
      "D:\\VerveBridgeProject\\.venv\\Lib\\site-packages\\tweepy\\api.py:599: SyntaxWarning: invalid escape sequence '\\['\n",
      "  \"\"\"get_retweeter_ids(id, *, count, cursor, stringify_ids)\n",
      "D:\\VerveBridgeProject\\.venv\\Lib\\site-packages\\tweepy\\api.py:634: SyntaxWarning: invalid escape sequence '\\['\n",
      "  \"\"\"get_retweets(id, *, count, trim_user)\n",
      "D:\\VerveBridgeProject\\.venv\\Lib\\site-packages\\tweepy\\api.py:667: SyntaxWarning: invalid escape sequence '\\['\n",
      "  \"\"\"get_retweets_of_me(*, count, since_id, max_id, trim_user, \\\n",
      "D:\\VerveBridgeProject\\.venv\\Lib\\site-packages\\tweepy\\api.py:1055: SyntaxWarning: invalid escape sequence '\\ '\n",
      "  \"\"\"search_tweets(q, *, geocode, lang, locale, result_type, count, \\\n",
      "D:\\VerveBridgeProject\\.venv\\Lib\\site-packages\\tweepy\\api.py:1157: SyntaxWarning: invalid escape sequence '\\['\n",
      "  \"\"\"get_lists(*, user_id, screen_name, reverse)\n",
      "D:\\VerveBridgeProject\\.venv\\Lib\\site-packages\\tweepy\\api.py:1202: SyntaxWarning: invalid escape sequence '\\['\n",
      "  \"\"\"get_list_members(*, list_id, slug, owner_screen_name, owner_id, \\\n",
      "D:\\VerveBridgeProject\\.venv\\Lib\\site-packages\\tweepy\\api.py:1299: SyntaxWarning: invalid escape sequence '\\['\n",
      "  \"\"\"get_list_memberships(*, user_id, screen_name, count, cursor, \\\n",
      "D:\\VerveBridgeProject\\.venv\\Lib\\site-packages\\tweepy\\api.py:1342: SyntaxWarning: invalid escape sequence '\\['\n",
      "  \"\"\"get_list_ownerships(*, user_id, screen_name, count, cursor)\n",
      "D:\\VerveBridgeProject\\.venv\\Lib\\site-packages\\tweepy\\api.py:1409: SyntaxWarning: invalid escape sequence '\\['\n",
      "  \"\"\"list_timeline( \\\n",
      "D:\\VerveBridgeProject\\.venv\\Lib\\site-packages\\tweepy\\api.py:1460: SyntaxWarning: invalid escape sequence '\\['\n",
      "  \"\"\"get_list_subscribers( \\\n",
      "D:\\VerveBridgeProject\\.venv\\Lib\\site-packages\\tweepy\\api.py:1559: SyntaxWarning: invalid escape sequence '\\['\n",
      "  \"\"\"get_list_subscriptions(*, user_id, screen_name, count, cursor)\n",
      "D:\\VerveBridgeProject\\.venv\\Lib\\site-packages\\tweepy\\api.py:1927: SyntaxWarning: invalid escape sequence '\\['\n",
      "  \"\"\"get_follower_ids(*, user_id, screen_name, cursor, stringify_ids, \\\n",
      "D:\\VerveBridgeProject\\.venv\\Lib\\site-packages\\tweepy\\api.py:1966: SyntaxWarning: invalid escape sequence '\\['\n",
      "  \"\"\"get_followers(*, user_id, screen_name, cursor, count, skip_status, \\\n",
      "D:\\VerveBridgeProject\\.venv\\Lib\\site-packages\\tweepy\\api.py:2008: SyntaxWarning: invalid escape sequence '\\['\n",
      "  \"\"\"get_friend_ids(*, user_id, screen_name, cursor, stringify_ids, \\\n",
      "D:\\VerveBridgeProject\\.venv\\Lib\\site-packages\\tweepy\\api.py:2047: SyntaxWarning: invalid escape sequence '\\['\n",
      "  \"\"\"get_friends(*, user_id, screen_name, cursor, count, skip_status, \\\n",
      "D:\\VerveBridgeProject\\.venv\\Lib\\site-packages\\tweepy\\api.py:2089: SyntaxWarning: invalid escape sequence '\\['\n",
      "  \"\"\"incoming_friendships(*, cursor, stringify_ids)\n",
      "D:\\VerveBridgeProject\\.venv\\Lib\\site-packages\\tweepy\\api.py:2120: SyntaxWarning: invalid escape sequence '\\['\n",
      "  \"\"\"lookup_friendships(*, screen_name, user_id)\n",
      "D:\\VerveBridgeProject\\.venv\\Lib\\site-packages\\tweepy\\api.py:2149: SyntaxWarning: invalid escape sequence '\\['\n",
      "  \"\"\"no_retweets_friendships(*, stringify_ids)\n",
      "D:\\VerveBridgeProject\\.venv\\Lib\\site-packages\\tweepy\\api.py:2176: SyntaxWarning: invalid escape sequence '\\['\n",
      "  \"\"\"outgoing_friendships(*, cursor, stringify_ids)\n",
      "D:\\VerveBridgeProject\\.venv\\Lib\\site-packages\\tweepy\\api.py:2243: SyntaxWarning: invalid escape sequence '\\['\n",
      "  \"\"\"lookup_users(*, screen_name, user_id, include_entities, tweet_mode)\n",
      "D:\\VerveBridgeProject\\.venv\\Lib\\site-packages\\tweepy\\api.py:2290: SyntaxWarning: invalid escape sequence '\\['\n",
      "  \"\"\"search_users(q, *, page, count, include_entities)\n",
      "D:\\VerveBridgeProject\\.venv\\Lib\\site-packages\\tweepy\\api.py:2500: SyntaxWarning: invalid escape sequence '\\['\n",
      "  \"\"\"get_saved_searches()\n",
      "D:\\VerveBridgeProject\\.venv\\Lib\\site-packages\\tweepy\\api.py:2814: SyntaxWarning: invalid escape sequence '\\['\n",
      "  \"\"\"get_blocked_ids(*, stringify_ids, cursor)\n",
      "D:\\VerveBridgeProject\\.venv\\Lib\\site-packages\\tweepy\\api.py:2846: SyntaxWarning: invalid escape sequence '\\['\n",
      "  \"\"\"get_blocks(*, include_entities, skip_status, cursor)\n",
      "D:\\VerveBridgeProject\\.venv\\Lib\\site-packages\\tweepy\\api.py:2880: SyntaxWarning: invalid escape sequence '\\['\n",
      "  \"\"\"get_muted_ids(*, stringify_ids, cursor)\n",
      "D:\\VerveBridgeProject\\.venv\\Lib\\site-packages\\tweepy\\api.py:2911: SyntaxWarning: invalid escape sequence '\\['\n",
      "  \"\"\"get_mutes(*, cursor, include_entities, skip_status)\n",
      "D:\\VerveBridgeProject\\.venv\\Lib\\site-packages\\tweepy\\api.py:3126: SyntaxWarning: invalid escape sequence '\\['\n",
      "  \"\"\"get_direct_messages(*, count, cursor)\n",
      "D:\\VerveBridgeProject\\.venv\\Lib\\site-packages\\tweepy\\api.py:3788: SyntaxWarning: invalid escape sequence '\\['\n",
      "  \"\"\"reverse_geocode(lat, long, *, accuracy, granularity, max_results)\n",
      "D:\\VerveBridgeProject\\.venv\\Lib\\site-packages\\tweepy\\api.py:3829: SyntaxWarning: invalid escape sequence '\\['\n",
      "  \"\"\"search_geo(*, lat, long, query, ip, granularity, max_results)\n"
     ]
    },
    {
     "ename": "Unauthorized",
     "evalue": "401 Unauthorized\n89 - Invalid or expired token.",
     "output_type": "error",
     "traceback": [
      "\u001B[1;31m---------------------------------------------------------------------------\u001B[0m",
      "\u001B[1;31mUnauthorized\u001B[0m                              Traceback (most recent call last)",
      "Cell \u001B[1;32mIn[4], line 18\u001B[0m\n\u001B[0;32m     15\u001B[0m all_tweets \u001B[38;5;241m=\u001B[39m pd\u001B[38;5;241m.\u001B[39mDataFrame(columns\u001B[38;5;241m=\u001B[39m[\u001B[38;5;124m\"\u001B[39m\u001B[38;5;124mTweet\u001B[39m\u001B[38;5;124m\"\u001B[39m, \u001B[38;5;124m\"\u001B[39m\u001B[38;5;124mSentiment\u001B[39m\u001B[38;5;124m\"\u001B[39m])\n\u001B[0;32m     17\u001B[0m \u001B[38;5;66;03m# Fetch recent tweets about Bitcoin using search_tweets\u001B[39;00m\n\u001B[1;32m---> 18\u001B[0m tweets \u001B[38;5;241m=\u001B[39m \u001B[43mapi\u001B[49m\u001B[38;5;241;43m.\u001B[39;49m\u001B[43msearch_tweets\u001B[49m\u001B[43m(\u001B[49m\u001B[43mq\u001B[49m\u001B[38;5;241;43m=\u001B[39;49m\u001B[38;5;124;43m\"\u001B[39;49m\u001B[38;5;124;43mBitcoin\u001B[39;49m\u001B[38;5;124;43m\"\u001B[39;49m\u001B[43m,\u001B[49m\u001B[43m \u001B[49m\u001B[43mlang\u001B[49m\u001B[38;5;241;43m=\u001B[39;49m\u001B[38;5;124;43m\"\u001B[39;49m\u001B[38;5;124;43men\u001B[39;49m\u001B[38;5;124;43m\"\u001B[39;49m\u001B[43m,\u001B[49m\u001B[43m \u001B[49m\u001B[43mcount\u001B[49m\u001B[38;5;241;43m=\u001B[39;49m\u001B[38;5;241;43m100\u001B[39;49m\u001B[43m)\u001B[49m\n\u001B[0;32m     20\u001B[0m \u001B[38;5;28;01mfor\u001B[39;00m tweet \u001B[38;5;129;01min\u001B[39;00m tweets:\n\u001B[0;32m     21\u001B[0m     analysis \u001B[38;5;241m=\u001B[39m TextBlob(tweet\u001B[38;5;241m.\u001B[39mtext)\n",
      "File \u001B[1;32mD:\\VerveBridgeProject\\.venv\\Lib\\site-packages\\tweepy\\api.py:33\u001B[0m, in \u001B[0;36mpagination.<locals>.decorator.<locals>.wrapper\u001B[1;34m(*args, **kwargs)\u001B[0m\n\u001B[0;32m     31\u001B[0m \u001B[38;5;129m@functools\u001B[39m\u001B[38;5;241m.\u001B[39mwraps(method)\n\u001B[0;32m     32\u001B[0m \u001B[38;5;28;01mdef\u001B[39;00m \u001B[38;5;21mwrapper\u001B[39m(\u001B[38;5;241m*\u001B[39margs, \u001B[38;5;241m*\u001B[39m\u001B[38;5;241m*\u001B[39mkwargs):\n\u001B[1;32m---> 33\u001B[0m     \u001B[38;5;28;01mreturn\u001B[39;00m \u001B[43mmethod\u001B[49m\u001B[43m(\u001B[49m\u001B[38;5;241;43m*\u001B[39;49m\u001B[43margs\u001B[49m\u001B[43m,\u001B[49m\u001B[43m \u001B[49m\u001B[38;5;241;43m*\u001B[39;49m\u001B[38;5;241;43m*\u001B[39;49m\u001B[43mkwargs\u001B[49m\u001B[43m)\u001B[49m\n",
      "File \u001B[1;32mD:\\VerveBridgeProject\\.venv\\Lib\\site-packages\\tweepy\\api.py:46\u001B[0m, in \u001B[0;36mpayload.<locals>.decorator.<locals>.wrapper\u001B[1;34m(*args, **kwargs)\u001B[0m\n\u001B[0;32m     44\u001B[0m kwargs[\u001B[38;5;124m'\u001B[39m\u001B[38;5;124mpayload_list\u001B[39m\u001B[38;5;124m'\u001B[39m] \u001B[38;5;241m=\u001B[39m payload_list\n\u001B[0;32m     45\u001B[0m kwargs[\u001B[38;5;124m'\u001B[39m\u001B[38;5;124mpayload_type\u001B[39m\u001B[38;5;124m'\u001B[39m] \u001B[38;5;241m=\u001B[39m payload_type\n\u001B[1;32m---> 46\u001B[0m \u001B[38;5;28;01mreturn\u001B[39;00m \u001B[43mmethod\u001B[49m\u001B[43m(\u001B[49m\u001B[38;5;241;43m*\u001B[39;49m\u001B[43margs\u001B[49m\u001B[43m,\u001B[49m\u001B[43m \u001B[49m\u001B[38;5;241;43m*\u001B[39;49m\u001B[38;5;241;43m*\u001B[39;49m\u001B[43mkwargs\u001B[49m\u001B[43m)\u001B[49m\n",
      "File \u001B[1;32mD:\\VerveBridgeProject\\.venv\\Lib\\site-packages\\tweepy\\api.py:1146\u001B[0m, in \u001B[0;36mAPI.search_tweets\u001B[1;34m(self, q, **kwargs)\u001B[0m\n\u001B[0;32m   1052\u001B[0m \u001B[38;5;129m@pagination\u001B[39m(mode\u001B[38;5;241m=\u001B[39m\u001B[38;5;124m'\u001B[39m\u001B[38;5;124mid\u001B[39m\u001B[38;5;124m'\u001B[39m)\n\u001B[0;32m   1053\u001B[0m \u001B[38;5;129m@payload\u001B[39m(\u001B[38;5;124m'\u001B[39m\u001B[38;5;124msearch_results\u001B[39m\u001B[38;5;124m'\u001B[39m)\n\u001B[0;32m   1054\u001B[0m \u001B[38;5;28;01mdef\u001B[39;00m \u001B[38;5;21msearch_tweets\u001B[39m(\u001B[38;5;28mself\u001B[39m, q, \u001B[38;5;241m*\u001B[39m\u001B[38;5;241m*\u001B[39mkwargs):\n\u001B[0;32m   1055\u001B[0m \u001B[38;5;250m    \u001B[39m\u001B[38;5;124;03m\"\"\"search_tweets(q, *, geocode, lang, locale, result_type, count, \\\u001B[39;00m\n\u001B[0;32m   1056\u001B[0m \u001B[38;5;124;03m                     until, since_id, max_id, include_entities)\u001B[39;00m\n\u001B[0;32m   1057\u001B[0m \n\u001B[1;32m   (...)\u001B[0m\n\u001B[0;32m   1144\u001B[0m \u001B[38;5;124;03m    .. _Twitter's documentation on the standard search API: https://developer.twitter.com/en/docs/twitter-api/v1/tweets/search/overview\u001B[39;00m\n\u001B[0;32m   1145\u001B[0m \u001B[38;5;124;03m    \"\"\"\u001B[39;00m\n\u001B[1;32m-> 1146\u001B[0m     \u001B[38;5;28;01mreturn\u001B[39;00m \u001B[38;5;28;43mself\u001B[39;49m\u001B[38;5;241;43m.\u001B[39;49m\u001B[43mrequest\u001B[49m\u001B[43m(\u001B[49m\n\u001B[0;32m   1147\u001B[0m \u001B[43m        \u001B[49m\u001B[38;5;124;43m'\u001B[39;49m\u001B[38;5;124;43mGET\u001B[39;49m\u001B[38;5;124;43m'\u001B[39;49m\u001B[43m,\u001B[49m\u001B[43m \u001B[49m\u001B[38;5;124;43m'\u001B[39;49m\u001B[38;5;124;43msearch/tweets\u001B[39;49m\u001B[38;5;124;43m'\u001B[39;49m\u001B[43m,\u001B[49m\u001B[43m \u001B[49m\u001B[43mendpoint_parameters\u001B[49m\u001B[38;5;241;43m=\u001B[39;49m\u001B[43m(\u001B[49m\n\u001B[0;32m   1148\u001B[0m \u001B[43m            \u001B[49m\u001B[38;5;124;43m'\u001B[39;49m\u001B[38;5;124;43mq\u001B[39;49m\u001B[38;5;124;43m'\u001B[39;49m\u001B[43m,\u001B[49m\u001B[43m \u001B[49m\u001B[38;5;124;43m'\u001B[39;49m\u001B[38;5;124;43mgeocode\u001B[39;49m\u001B[38;5;124;43m'\u001B[39;49m\u001B[43m,\u001B[49m\u001B[43m \u001B[49m\u001B[38;5;124;43m'\u001B[39;49m\u001B[38;5;124;43mlang\u001B[39;49m\u001B[38;5;124;43m'\u001B[39;49m\u001B[43m,\u001B[49m\u001B[43m \u001B[49m\u001B[38;5;124;43m'\u001B[39;49m\u001B[38;5;124;43mlocale\u001B[39;49m\u001B[38;5;124;43m'\u001B[39;49m\u001B[43m,\u001B[49m\u001B[43m \u001B[49m\u001B[38;5;124;43m'\u001B[39;49m\u001B[38;5;124;43mresult_type\u001B[39;49m\u001B[38;5;124;43m'\u001B[39;49m\u001B[43m,\u001B[49m\u001B[43m \u001B[49m\u001B[38;5;124;43m'\u001B[39;49m\u001B[38;5;124;43mcount\u001B[39;49m\u001B[38;5;124;43m'\u001B[39;49m\u001B[43m,\u001B[49m\n\u001B[0;32m   1149\u001B[0m \u001B[43m            \u001B[49m\u001B[38;5;124;43m'\u001B[39;49m\u001B[38;5;124;43muntil\u001B[39;49m\u001B[38;5;124;43m'\u001B[39;49m\u001B[43m,\u001B[49m\u001B[43m \u001B[49m\u001B[38;5;124;43m'\u001B[39;49m\u001B[38;5;124;43msince_id\u001B[39;49m\u001B[38;5;124;43m'\u001B[39;49m\u001B[43m,\u001B[49m\u001B[43m \u001B[49m\u001B[38;5;124;43m'\u001B[39;49m\u001B[38;5;124;43mmax_id\u001B[39;49m\u001B[38;5;124;43m'\u001B[39;49m\u001B[43m,\u001B[49m\u001B[43m \u001B[49m\u001B[38;5;124;43m'\u001B[39;49m\u001B[38;5;124;43minclude_entities\u001B[39;49m\u001B[38;5;124;43m'\u001B[39;49m\n\u001B[0;32m   1150\u001B[0m \u001B[43m        \u001B[49m\u001B[43m)\u001B[49m\u001B[43m,\u001B[49m\u001B[43m \u001B[49m\u001B[43mq\u001B[49m\u001B[38;5;241;43m=\u001B[39;49m\u001B[43mq\u001B[49m\u001B[43m,\u001B[49m\u001B[43m \u001B[49m\u001B[38;5;241;43m*\u001B[39;49m\u001B[38;5;241;43m*\u001B[39;49m\u001B[43mkwargs\u001B[49m\n\u001B[0;32m   1151\u001B[0m \u001B[43m    \u001B[49m\u001B[43m)\u001B[49m\n",
      "File \u001B[1;32mD:\\VerveBridgeProject\\.venv\\Lib\\site-packages\\tweepy\\api.py:269\u001B[0m, in \u001B[0;36mAPI.request\u001B[1;34m(self, method, endpoint, endpoint_parameters, params, headers, json_payload, parser, payload_list, payload_type, post_data, files, require_auth, return_cursors, upload_api, use_cache, **kwargs)\u001B[0m\n\u001B[0;32m    267\u001B[0m     \u001B[38;5;28;01mraise\u001B[39;00m BadRequest(resp)\n\u001B[0;32m    268\u001B[0m \u001B[38;5;28;01mif\u001B[39;00m resp\u001B[38;5;241m.\u001B[39mstatus_code \u001B[38;5;241m==\u001B[39m \u001B[38;5;241m401\u001B[39m:\n\u001B[1;32m--> 269\u001B[0m     \u001B[38;5;28;01mraise\u001B[39;00m Unauthorized(resp)\n\u001B[0;32m    270\u001B[0m \u001B[38;5;28;01mif\u001B[39;00m resp\u001B[38;5;241m.\u001B[39mstatus_code \u001B[38;5;241m==\u001B[39m \u001B[38;5;241m403\u001B[39m:\n\u001B[0;32m    271\u001B[0m     \u001B[38;5;28;01mraise\u001B[39;00m Forbidden(resp)\n",
      "\u001B[1;31mUnauthorized\u001B[0m: 401 Unauthorized\n89 - Invalid or expired token."
     ]
    }
   ],
   "execution_count": 4
  }
 ],
 "metadata": {
  "kernelspec": {
   "display_name": "Python 3",
   "language": "python",
   "name": "python3"
  },
  "language_info": {
   "codemirror_mode": {
    "name": "ipython",
    "version": 2
   },
   "file_extension": ".py",
   "mimetype": "text/x-python",
   "name": "python",
   "nbconvert_exporter": "python",
   "pygments_lexer": "ipython2",
   "version": "2.7.6"
  }
 },
 "nbformat": 4,
 "nbformat_minor": 5
}
