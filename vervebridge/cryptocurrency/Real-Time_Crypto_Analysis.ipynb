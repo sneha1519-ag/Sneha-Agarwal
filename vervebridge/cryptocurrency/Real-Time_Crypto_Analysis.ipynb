{
 "cells": [
  {
   "cell_type": "code",
   "id": "initial_id",
   "metadata": {
    "collapsed": true,
    "jupyter": {
     "is_executing": true
    },
    "ExecuteTime": {
     "start_time": "2024-09-01T17:42:28.258976Z"
    }
   },
   "source": [
    "import requests\n",
    "import pandas as pd\n",
    "import time\n",
    "\n",
    "# CoinGecko API URL\n",
    "url = \"https://api.coingecko.com/api/v3/coins/markets\"\n",
    "params = {\n",
    "    'vs_currency': 'usd',\n",
    "    'order': 'market_cap_desc',\n",
    "    'per_page': 100,\n",
    "    'page': 1,\n",
    "    'sparkline': False\n",
    "}\n",
    "\n",
    "# Initialize an empty DataFrame\n",
    "all_data = pd.DataFrame()\n",
    "\n",
    "while True:\n",
    "    response = requests.get(url, params=params)\n",
    "    data = response.json()\n",
    "    \n",
    "    # Convert to DataFrame\n",
    "    df = pd.DataFrame(data)\n",
    "    \n",
    "    # Append new data to the existing data\n",
    "    all_data = pd.concat([all_data, df], ignore_index=True)\n",
    "    \n",
    "    # Save the data to a CSV file\n",
    "    all_data.to_csv('crypto_data.csv', index=False)\n",
    "    \n",
    "    print(df.head())  # Optional: Just to see the output\n",
    "    time.sleep(60)  # Fetch data every minute\n"
   ],
   "outputs": [
    {
     "name": "stdout",
     "output_type": "stream",
     "text": [
      "            id symbol      name  \\\n",
      "0      bitcoin    btc   Bitcoin   \n",
      "1     ethereum    eth  Ethereum   \n",
      "2       tether   usdt    Tether   \n",
      "3  binancecoin    bnb       BNB   \n",
      "4       solana    sol    Solana   \n",
      "\n",
      "                                               image  current_price  \\\n",
      "0  https://coin-images.coingecko.com/coins/images...   57866.000000   \n",
      "1  https://coin-images.coingecko.com/coins/images...    2459.390000   \n",
      "2  https://coin-images.coingecko.com/coins/images...       0.999286   \n",
      "3  https://coin-images.coingecko.com/coins/images...     516.080000   \n",
      "4  https://coin-images.coingecko.com/coins/images...     132.130000   \n",
      "\n",
      "      market_cap  market_cap_rank  fully_diluted_valuation  total_volume  \\\n",
      "0  1144268776571                1            1216807171642   21174630442   \n",
      "1   295997004033                2             295997004033    8063168567   \n",
      "2   118168765734                3             118168765734   26240202727   \n",
      "3    75497609648                4              75497609648     589475848   \n",
      "4    61674471342                5              77130084052    2018707590   \n",
      "\n",
      "    high_24h  ...  total_supply   max_supply       ath  ath_change_percentage  \\\n",
      "0  59130.000  ...  2.100000e+07   21000000.0  73738.00              -21.23236   \n",
      "1   2525.170  ...  1.203058e+08          NaN   4878.26              -49.35690   \n",
      "2      1.004  ...  1.182288e+11          NaN      1.32              -24.46804   \n",
      "3    535.340  ...  1.458876e+08  200000000.0    717.48              -27.66425   \n",
      "4    136.290  ...  5.835111e+08          NaN    259.96              -49.01522   \n",
      "\n",
      "                   ath_date        atl  atl_change_percentage  \\\n",
      "0  2024-03-14T07:10:36.635Z  67.810000           8.555476e+04   \n",
      "1  2021-11-10T14:24:19.604Z   0.432979           5.704827e+05   \n",
      "2  2018-07-24T00:00:00.000Z   0.572521           7.455427e+01   \n",
      "3  2024-06-06T14:10:59.816Z   0.039818           1.303318e+06   \n",
      "4  2021-11-06T21:54:35.825Z   0.500801           2.636552e+04   \n",
      "\n",
      "                   atl_date  \\\n",
      "0  2013-07-06T00:00:00.000Z   \n",
      "1  2015-10-20T00:00:00.000Z   \n",
      "2  2015-03-02T00:00:00.000Z   \n",
      "3  2017-10-19T00:00:00.000Z   \n",
      "4  2020-05-11T19:35:23.449Z   \n",
      "\n",
      "                                                 roi              last_updated  \n",
      "0                                               None  2024-09-01T17:33:44.222Z  \n",
      "1  {'times': 55.79825886521986, 'currency': 'btc'...  2024-09-01T17:33:46.889Z  \n",
      "2                                               None  2024-09-01T17:33:41.023Z  \n",
      "3                                               None  2024-09-01T17:33:44.109Z  \n",
      "4                                               None  2024-09-01T17:33:40.440Z  \n",
      "\n",
      "[5 rows x 26 columns]\n"
     ]
    }
   ],
   "execution_count": null
  }
 ],
 "metadata": {
  "kernelspec": {
   "display_name": "Python 3",
   "language": "python",
   "name": "python3"
  },
  "language_info": {
   "codemirror_mode": {
    "name": "ipython",
    "version": 2
   },
   "file_extension": ".py",
   "mimetype": "text/x-python",
   "name": "python",
   "nbconvert_exporter": "python",
   "pygments_lexer": "ipython2",
   "version": "2.7.6"
  }
 },
 "nbformat": 4,
 "nbformat_minor": 5
}
