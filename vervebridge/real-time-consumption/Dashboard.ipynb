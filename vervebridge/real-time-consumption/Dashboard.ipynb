{
 "cells": [
  {
   "cell_type": "code",
   "id": "initial_id",
   "metadata": {
    "collapsed": true,
    "ExecuteTime": {
     "end_time": "2024-09-22T09:57:12.400909Z",
     "start_time": "2024-09-22T09:57:10.042173Z"
    }
   },
   "source": [
    "import dash\n",
    "from dash import dcc, html\n",
    "from dash.dependencies import Input, Output\n",
    "import pandas as pd\n",
    "import plotly.express as px\n",
    "\n",
    "# Load the mock data\n",
    "data = pd.read_csv('large_mock_energy_data.csv')\n",
    "\n",
    "# Convert timestamp to datetime format\n",
    "data['timestamp'] = pd.to_datetime(data['timestamp'])\n",
    "\n",
    "# Create a Dash application\n",
    "app = dash.Dash(__name__)\n",
    "\n",
    "# Define the layout of the dashboard\n",
    "app.layout = html.Div(children=[\n",
    "    html.H1(children='Real-Time Energy Consumption Monitoring Dashboard'),\n",
    "\n",
    "    # Dropdown for selecting the metric to display\n",
    "    html.Label('Select Metric:'),\n",
    "    dcc.Dropdown(\n",
    "        id='metric-dropdown',\n",
    "        options=[\n",
    "            {'label': 'Energy Consumption', 'value': 'energy_consumption'},\n",
    "            {'label': 'Temperature', 'value': 'temperature'}\n",
    "        ],\n",
    "        value='energy_consumption',  # Default value\n",
    "        clearable=False\n",
    "    ),\n",
    "\n",
    "    # Graph to display the data\n",
    "    dcc.Graph(\n",
    "        id='time-series-graph'\n",
    "    ),\n",
    "\n",
    "    # Slider for selecting the date range\n",
    "    dcc.RangeSlider(\n",
    "        id='date-slider',\n",
    "        min=0,\n",
    "        max=len(data) - 1,\n",
    "        value=[0, len(data) - 1],\n",
    "        marks={i: data['timestamp'][i].strftime('%Y-%m-%d') for i in range(0, len(data), int(len(data)/10))},\n",
    "        step=1\n",
    "    )\n",
    "])\n",
    "\n",
    "# Define the callback to update the graph based on the dropdown and slider input\n",
    "@app.callback(\n",
    "    Output('time-series-graph', 'figure'),\n",
    "    [Input('metric-dropdown', 'value'),\n",
    "     Input('date-slider', 'value')]\n",
    ")\n",
    "def update_graph(selected_metric, date_range):\n",
    "    # Filter data based on the selected date range\n",
    "    filtered_data = data.iloc[date_range[0]:date_range[1]]\n",
    "\n",
    "    # Create a time-series plot\n",
    "    fig = px.line(filtered_data, x='timestamp', y=selected_metric,\n",
    "                  title=f'{selected_metric} over Time',\n",
    "                  labels={'timestamp': 'Timestamp', selected_metric: selected_metric.capitalize()})\n",
    "\n",
    "    # Add additional layout settings\n",
    "    fig.update_layout(transition_duration=500, xaxis_title='Timestamp', yaxis_title=selected_metric.capitalize())\n",
    "\n",
    "    return fig\n",
    "\n",
    "# Run the application\n",
    "if __name__ == '__main__':\n",
    "    app.run_server(debug=True)\n"
   ],
   "outputs": [
    {
     "data": {
      "text/plain": [
       "<IPython.lib.display.IFrame at 0x1c847d01b20>"
      ],
      "text/html": [
       "\n",
       "        <iframe\n",
       "            width=\"100%\"\n",
       "            height=\"650\"\n",
       "            src=\"http://127.0.0.1:8050/\"\n",
       "            frameborder=\"0\"\n",
       "            allowfullscreen\n",
       "            \n",
       "        ></iframe>\n",
       "        "
      ]
     },
     "metadata": {},
     "output_type": "display_data"
    }
   ],
   "execution_count": 2
  }
 ],
 "metadata": {
  "kernelspec": {
   "display_name": "Python 3",
   "language": "python",
   "name": "python3"
  },
  "language_info": {
   "codemirror_mode": {
    "name": "ipython",
    "version": 2
   },
   "file_extension": ".py",
   "mimetype": "text/x-python",
   "name": "python",
   "nbconvert_exporter": "python",
   "pygments_lexer": "ipython2",
   "version": "2.7.6"
  }
 },
 "nbformat": 4,
 "nbformat_minor": 5
}
