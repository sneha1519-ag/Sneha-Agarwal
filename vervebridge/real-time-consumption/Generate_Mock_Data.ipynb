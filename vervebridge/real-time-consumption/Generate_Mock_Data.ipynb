{
 "cells": [
  {
   "cell_type": "code",
   "id": "initial_id",
   "metadata": {
    "collapsed": true,
    "ExecuteTime": {
     "end_time": "2024-09-22T09:41:31.952597Z",
     "start_time": "2024-09-22T09:41:31.777338Z"
    }
   },
   "source": [
    "# In this we are generating mock data\n",
    "import pandas as pd\n",
    "import numpy as np\n",
    "from datetime import datetime, timedelta\n",
    "\n",
    "# Function to generate larger mock data for 3 months of hourly energy consumption\n",
    "def generate_large_mock_data():\n",
    "    # Define time range: 3 months of hourly data\n",
    "    start_time = datetime.now() - timedelta(days=90)  # Start 3 months ago\n",
    "    time_range = [start_time + timedelta(hours=i) for i in range(90 * 24)]  # 3 months * 24 hours\n",
    "\n",
    "    # Generate random energy consumption data (between 100 and 1000 units)\n",
    "    np.random.seed(42)  # Set seed for reproducibility\n",
    "    energy_consumption = np.random.randint(100, 1000, len(time_range))\n",
    "\n",
    "    # Generate random weather data (temperature between 20°C and 35°C)\n",
    "    temperature = np.random.uniform(20, 35, len(time_range))\n",
    "\n",
    "    # Create a DataFrame\n",
    "    mock_data = {\n",
    "        'timestamp': time_range,\n",
    "        'energy_consumption': energy_consumption,\n",
    "        'temperature': temperature\n",
    "    }\n",
    "    df = pd.DataFrame(mock_data)\n",
    "\n",
    "    # Save the DataFrame to a CSV file\n",
    "    df.to_csv('large_mock_energy_data.csv', index=False)\n",
    "    print(\"Large mock data generated and saved to 'large_mock_energy_data.csv'\")\n",
    "\n",
    "# Generate and save the large mock data\n",
    "generate_large_mock_data()\n"
   ],
   "outputs": [
    {
     "name": "stdout",
     "output_type": "stream",
     "text": [
      "Large mock data generated and saved to 'large_mock_energy_data.csv'\n"
     ]
    }
   ],
   "execution_count": 2
  }
 ],
 "metadata": {
  "kernelspec": {
   "display_name": "Python 3",
   "language": "python",
   "name": "python3"
  },
  "language_info": {
   "codemirror_mode": {
    "name": "ipython",
    "version": 2
   },
   "file_extension": ".py",
   "mimetype": "text/x-python",
   "name": "python",
   "nbconvert_exporter": "python",
   "pygments_lexer": "ipython2",
   "version": "2.7.6"
  }
 },
 "nbformat": 4,
 "nbformat_minor": 5
}
